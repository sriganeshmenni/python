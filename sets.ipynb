{
 "cells": [
  {
   "cell_type": "markdown",
   "metadata": {},
   "source": [
    "#### Sets in Python\n",
    "- set is an unorder collection of unique immutable elements\n",
    "- set will not hild dulicates\n",
    "- set elements are enclosed within curly braces\n",
    "- sets are mutable\n",
    "- sets supports insertion ,deletion ,just like lists\n",
    "- sets are not substriptable (sets are not indexed)\n",
    "- you csn only pass in *immutable* elements to set\n",
    "- which means its possible to create a set of strings,integers,floating points values,But its not possible to have a set of lists or even set of sets."
   ]
  },
  {
   "cell_type": "code",
   "execution_count": 4,
   "metadata": {},
   "outputs": [
    {
     "name": "stdout",
     "output_type": "stream",
     "text": [
      "[10, 20, 30, 40, 10]\n",
      "<class 'list'>\n",
      "{40, 10, 20, 30}\n",
      "<class 'set'>\n",
      "40 10 100\n"
     ]
    }
   ],
   "source": [
    "s  = [10,20,30,40,10]\n",
    "print(s)\n",
    "print(type(s))\n",
    "s1 = {10,20,30,40,10}\n",
    "print(s1)\n",
    "print(type(s1))\n",
    "print(max(s1),min(s1),sum(s1))"
   ]
  },
  {
   "cell_type": "code",
   "execution_count": null,
   "metadata": {},
   "outputs": [],
   "source": []
  },
  {
   "cell_type": "code",
   "execution_count": 10,
   "metadata": {},
   "outputs": [
    {
     "name": "stdout",
     "output_type": "stream",
     "text": [
      "Help on method_descriptor:\n",
      "\n",
      "discard(...) unbound builtins.set method\n",
      "    Remove an element from a set if it is a member.\n",
      "\n",
      "    Unlike set.remove(), the discard() method does not raise\n",
      "    an exception when an element is missing from the set.\n",
      "\n",
      "Help on method_descriptor:\n",
      "\n",
      "remove(...) unbound builtins.set method\n",
      "    Remove an element from a set; it must be a member.\n",
      "\n",
      "    If the element is not a member, raise a KeyError.\n",
      "\n",
      "Help on method_descriptor:\n",
      "\n",
      "union(...) unbound builtins.set method\n",
      "    Return the union of sets as a new set.\n",
      "\n",
      "    (i.e. all elements that are in either set.)\n",
      "\n"
     ]
    }
   ],
   "source": [
    "help(set.discard)\n",
    "help(set.remove)\n",
    "help(set.union)"
   ]
  },
  {
   "cell_type": "code",
   "execution_count": 7,
   "metadata": {},
   "outputs": [
    {
     "name": "stdout",
     "output_type": "stream",
     "text": [
      "{40, 10, 20, 30}\n"
     ]
    }
   ],
   "source": [
    "# set()function is used to convert any other iterable to a set function \n",
    "s  = [10,20,30,40,10,10,20,30,40,10]\n",
    "k = set(s)\n",
    "print(k)"
   ]
  },
  {
   "cell_type": "code",
   "execution_count": 9,
   "metadata": {},
   "outputs": [
    {
     "name": "stdout",
     "output_type": "stream",
     "text": [
      "{'paleremo', 'brazil', 'frannce', 'sweden', 'india', 'Tokyo', 'usa'}\n"
     ]
    }
   ],
   "source": [
    "winners  = ['Tokyo','frannce','Tokyo','usa','india','india','brazil','paleremo','sweden']\n",
    "s = set(winners)\n",
    "print(s)"
   ]
  },
  {
   "cell_type": "markdown",
   "metadata": {},
   "source": [
    "#### Set methods\n",
    "- add()\n",
    "- remove()\n",
    "- discard()\n",
    "- union()\n",
    "- intersection()\n",
    "- difference()\n",
    "- symmetric difference()\n",
    "- issubset()\n",
    "- issuperset()"
   ]
  },
  {
   "cell_type": "code",
   "execution_count": 20,
   "metadata": {},
   "outputs": [
    {
     "name": "stdout",
     "output_type": "stream",
     "text": [
      "{36, 40, 10, 20, 30}\n"
     ]
    }
   ],
   "source": [
    "s1 = {10,20,30,40,10}\n",
    "s1.add(36)\n",
    "s1.remove(10)\n",
    "print(s1.discard(60))\n",
    "print(s1)"
   ]
  },
  {
   "cell_type": "code",
   "execution_count": 22,
   "metadata": {},
   "outputs": [
    {
     "name": "stdout",
     "output_type": "stream",
     "text": [
      "{10, 20}\n"
     ]
    }
   ],
   "source": [
    "# Taking set of elements into set\n",
    "n = int(input())\n",
    "k=set(map(int,input().split()))\n",
    "print(k)"
   ]
  },
  {
   "cell_type": "code",
   "execution_count": 26,
   "metadata": {},
   "outputs": [
    {
     "name": "stdout",
     "output_type": "stream",
     "text": [
      "{'ok', 'oh'}\n"
     ]
    }
   ],
   "source": [
    "n=int(input())\n",
    "#s= {} creates empty dictionary not set\n",
    "s = set()\n",
    "for i in range(n):\n",
    "    k = input()\n",
    "    s.add(k)\n",
    "print(s)"
   ]
  },
  {
   "cell_type": "code",
   "execution_count": 28,
   "metadata": {},
   "outputs": [
    {
     "name": "stdout",
     "output_type": "stream",
     "text": [
      "{50, 20, 40, 10, 30}\n",
      "{30}\n",
      "{40, 50}\n",
      "{10, 20}\n",
      "{40, 10, 50, 20}\n"
     ]
    }
   ],
   "source": [
    "s1 = {10,20,30}\n",
    "s2 = {30,40,50}\n",
    "k=s1.union(s2)\n",
    "print(k)\n",
    "l=s1.intersection(s2)\n",
    "print(l)\n",
    "m=s2.difference(s1)\n",
    "print(m)\n",
    "n=s1.difference(s2)\n",
    "print(n)\n",
    "o=s1.symmetric_difference(s2)\n",
    "print(o)\n"
   ]
  },
  {
   "cell_type": "code",
   "execution_count": null,
   "metadata": {},
   "outputs": [],
   "source": []
  }
 ],
 "metadata": {
  "kernelspec": {
   "display_name": "Python 3",
   "language": "python",
   "name": "python3"
  },
  "language_info": {
   "codemirror_mode": {
    "name": "ipython",
    "version": 3
   },
   "file_extension": ".py",
   "mimetype": "text/x-python",
   "name": "python",
   "nbconvert_exporter": "python",
   "pygments_lexer": "ipython3",
   "version": "3.12.3"
  }
 },
 "nbformat": 4,
 "nbformat_minor": 2
}
