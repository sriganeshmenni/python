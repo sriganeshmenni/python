{
 "cells": [
  {
   "cell_type": "code",
   "execution_count": 2,
   "id": "cbb67bc1-8821-4974-8a98-1864b74e9cb0",
   "metadata": {},
   "outputs": [
    {
     "name": "stdout",
     "output_type": "stream",
     "text": [
      " The sum of 1 and 2 is 3\n"
     ]
    }
   ],
   "source": [
    "print(\" The sum of {} and {} is {}\".format(1,2,3))\n"
   ]
  },
  {
   "cell_type": "code",
   "execution_count": 6,
   "id": "bb4b9bd9-7563-48ad-9705-cdf6563a0417",
   "metadata": {},
   "outputs": [
    {
     "name": "stdout",
     "output_type": "stream",
     "text": [
      "20\n"
     ]
    }
   ],
   "source": [
    "a=10\n",
    "b=10\n",
    "c=a+b\n",
    "print(c)\n"
   ]
  },
  {
   "cell_type": "raw",
   "id": "561e31c9-bc50-428e-be14-1ead677c1929",
   "metadata": {},
   "source": [
    "for i in range(9):\n",
    " print(i)"
   ]
  },
  {
   "cell_type": "code",
   "execution_count": null,
   "id": "5d2f649b-8cee-4bce-9a10-7de70efd1b78",
   "metadata": {},
   "outputs": [],
   "source": []
  }
 ],
 "metadata": {
  "kernelspec": {
   "display_name": "Python 3 (ipykernel)",
   "language": "python",
   "name": "python3"
  },
  "language_info": {
   "codemirror_mode": {
    "name": "ipython",
    "version": 3
   },
   "file_extension": ".py",
   "mimetype": "text/x-python",
   "name": "python",
   "nbconvert_exporter": "python",
   "pygments_lexer": "ipython3",
   "version": "3.12.4"
  }
 },
 "nbformat": 4,
 "nbformat_minor": 5
}
