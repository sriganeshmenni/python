{
 "cells": [
  {
   "cell_type": "markdown",
   "metadata": {},
   "source": [
    "## List in Python\n",
    "- lists are collection of elements that are of Homogeneous or heterogeneous\n",
    "- lists are indexed and store using square brackets\n",
    "- We can access lists elements by their index\n",
    "- it is dynamic and mutable"
   ]
  },
  {
   "cell_type": "code",
   "execution_count": null,
   "metadata": {},
   "outputs": [],
   "source": [
    "lst = [1,2,4,5]\n",
    "print(lst[3])"
   ]
  },
  {
   "cell_type": "code",
   "execution_count": null,
   "metadata": {},
   "outputs": [],
   "source": [
    "# Negative indices---\n",
    "lst = [1,2,4,5,6,7]\n",
    "print(lst[3])\n",
    "print(lst[-3])"
   ]
  },
  {
   "cell_type": "code",
   "execution_count": null,
   "metadata": {},
   "outputs": [],
   "source": [
    "names = ['Amarendra Bahubali','kattapa','BhallalaDeva','Shivagami','Avanthika','kalakeya','Devasena','Mahendra Bahubali']\n",
    "print(f\"{names[0]} kills {names[5]} with the help of {names[2]}\")\n",
    "print(f\"{names[-8]} kills {names[-3]} with the help of {names[-6]}\")\n",
    "\n",
    "print(f\"{names[3]} Saves {names[7]}\")\n",
    "print(f\"{names[-5]} Saves {names[-1]}\")\n",
    "\n",
    "print(f\"{names[7]} loves {names[4]}\")\n",
    "print(f\"{names[-1]} loves {names[-4]}\")\n",
    "\n",
    "print(f\"{names[2]} is killed by {names[7]} to avenge {names[6]}\")\n",
    "print(f\"{names[-6]} is killed by {names[-1]} to avenge {names[-2]}\")"
   ]
  },
  {
   "cell_type": "markdown",
   "metadata": {},
   "source": [
    "#### Built in Functions used on the sequence type\n",
    "- len()\n",
    "- min() and max()\n",
    "- sum()"
   ]
  },
  {
   "cell_type": "code",
   "execution_count": null,
   "metadata": {},
   "outputs": [],
   "source": [
    "## len()\n",
    "a = [1,3,2,4,5]\n",
    "print(len(a))\n",
    "\n",
    "b = ['gan','esh','men']\n",
    "print(len(b[1]))"
   ]
  },
  {
   "cell_type": "code",
   "execution_count": null,
   "metadata": {},
   "outputs": [],
   "source": [
    "# max () and min()\n",
    "# works on homogeneous data\n",
    "\n",
    "b = ['gan','esh','men']\n",
    "print(max(b),min(b))   #-----> ASCII character set a-z->97 - 122,A-Z->65-90\n",
    "\n",
    "## chr()\n",
    "print(chr(92))\n",
    "print(chr(3077))\n",
    "for i in range(3077,3170):\n",
    "    print(f\"{chr(i)} --> {i}\")\n"
   ]
  },
  {
   "cell_type": "markdown",
   "metadata": {},
   "source": [
    "### UNICODE"
   ]
  },
  {
   "cell_type": "code",
   "execution_count": null,
   "metadata": {},
   "outputs": [],
   "source": [
    "print(ord('h'))\n",
    "print(ord('అ'))\n",
    "print(ord('😍'))"
   ]
  },
  {
   "cell_type": "code",
   "execution_count": null,
   "metadata": {},
   "outputs": [],
   "source": [
    "### sorted()\n",
    "b = ['gan','esh','men']\n",
    "print(sorted(b))\n",
    "\n",
    "c = [78,66,3,76,46]\n",
    "print(sorted(c))"
   ]
  },
  {
   "cell_type": "code",
   "execution_count": null,
   "metadata": {},
   "outputs": [],
   "source": [
    "## sum()->only works on numerics\n",
    "c = [78,66,3,76,46]\n",
    "print(sum(c))\n",
    "print(sorted(c))"
   ]
  },
  {
   "cell_type": "markdown",
   "metadata": {},
   "source": [
    "### Looping on Sequences\n",
    "- on sequence type ,you can run two types of loops\n",
    "+ index based\n",
    "* value based\n",
    "\n"
   ]
  },
  {
   "cell_type": "code",
   "execution_count": null,
   "metadata": {},
   "outputs": [],
   "source": [
    "## Index Based\n",
    "lst = [1,2,3,4,5]\n",
    "\n",
    "for i in range(len(lst)):\n",
    "    print(lst[i])\n",
    "print('\\n')\n",
    "for i in range(len(lst),0,-1):\n",
    "    print(lst[-i]) \n",
    " ## in Reverse\n",
    "# for i in range(1,len(lst)+1):\n",
    "  #  print(lst[-i])"
   ]
  },
  {
   "cell_type": "code",
   "execution_count": null,
   "metadata": {},
   "outputs": [],
   "source": [
    "# Value Based\n",
    "lst = [1,2,3,4,5]\n",
    "for i in lst:\n",
    "        print(i)"
   ]
  },
  {
   "cell_type": "code",
   "execution_count": null,
   "metadata": {},
   "outputs": [],
   "source": [
    "#reading a list\n",
    "n = int(input())\n",
    "lst = list(map(int,input().split()))\n",
    "print(lst)"
   ]
  },
  {
   "cell_type": "code",
   "execution_count": null,
   "metadata": {},
   "outputs": [],
   "source": [
    "lst = [10,20,40,30,60,50]\n",
    "lst.sort()\n",
    "print(lst)"
   ]
  },
  {
   "cell_type": "markdown",
   "metadata": {},
   "source": [
    "### Insertion Methods\n",
    "- THESE methods add elements to existing lists\n",
    "- Append()\n",
    "- insert()\n",
    "- extend()"
   ]
  },
  {
   "cell_type": "markdown",
   "metadata": {},
   "source": [
    "#### Append()\n",
    "- append() is used to add elements at the of lists\n",
    "- add one element at a Time\n",
    "- Usage - listsname.Append(element)"
   ]
  },
  {
   "cell_type": "code",
   "execution_count": null,
   "metadata": {},
   "outputs": [],
   "source": [
    "lst = [10,20,40,30,60,50]\n",
    "lst.append(88)\n",
    "print(lst)\n",
    "lst.append(99)\n",
    "print(lst)"
   ]
  },
  {
   "cell_type": "code",
   "execution_count": null,
   "metadata": {},
   "outputs": [],
   "source": [
    "## Input reading\n",
    "n = int(input())\n",
    "lst = []\n",
    "for i in range(n):\n",
    "    val = int(input())\n",
    "    lst.append(val)\n",
    "print(lst)"
   ]
  },
  {
   "cell_type": "code",
   "execution_count": null,
   "metadata": {},
   "outputs": [],
   "source": [
    "names = [\"Ganesh\",\"Sri\",\"Menni\",\"Bsums\"]\n",
    "lenght = []\n",
    "for i in names:\n",
    "    lenght.append(len(i))\n",
    "print(lenght)"
   ]
  },
  {
   "cell_type": "code",
   "execution_count": null,
   "metadata": {},
   "outputs": [],
   "source": [
    "new_list= ['a','x','r','s']\n",
    "new = []\n",
    "for i in new_list:\n",
    "    new.append(ord(i))\n",
    "print(new)\n"
   ]
  },
  {
   "cell_type": "code",
   "execution_count": null,
   "metadata": {},
   "outputs": [],
   "source": [
    "new_list= [66,87,96,99,56,897]\n",
    "new = []\n",
    "for i in new_list:\n",
    "    if i%2 != 0:\n",
    "        new.append(i)\n",
    "print(new)"
   ]
  },
  {
   "cell_type": "code",
   "execution_count": null,
   "metadata": {},
   "outputs": [],
   "source": [
    "## Random \n",
    "import random\n",
    "n = int(input())\n",
    "new = []\n",
    "a,b = map(int,input().split())\n",
    "for i in range(n):\n",
    "  r=random.randint(a,b)\n",
    "  new.append(r)\n",
    "print(new)"
   ]
  },
  {
   "cell_type": "code",
   "execution_count": null,
   "metadata": {},
   "outputs": [],
   "source": [
    "import random\n",
    "rn = random.randint(55,99)\n",
    "print(rn)"
   ]
  },
  {
   "cell_type": "code",
   "execution_count": null,
   "metadata": {},
   "outputs": [],
   "source": [
    "import random\n",
    "names = ['Ganesh','yaswanth','nani','jenny','krupal','boss']\n",
    "print(random.choice(names))"
   ]
  },
  {
   "cell_type": "code",
   "execution_count": null,
   "metadata": {},
   "outputs": [],
   "source": [
    "import random\n",
    "names = ['Ganesh','yaswanth','nani','jenny','krupal','boss']\n",
    "new =[]\n",
    "for i in range(3):\n",
    "     n = random.choice(names)\n",
    "     new.append(n)\n",
    "print(new)"
   ]
  },
  {
   "cell_type": "code",
   "execution_count": null,
   "metadata": {},
   "outputs": [],
   "source": [
    "import random\n",
    "ages = []\n",
    "children=[]\n",
    "teen=[]\n",
    "middle=[]\n",
    "old = []\n",
    "for i in range(20):\n",
    "    rn=random.randint(1,99)\n",
    "    if rn<13:\n",
    "        children.append(rn)\n",
    "    elif rn>=13 and rn<=19:\n",
    "        teen.append(rn)\n",
    "    elif rn>=20 and rn<50:\n",
    "        middle.append(rn)\n",
    "    elif rn>=50:\n",
    "        old.append(rn)\n",
    "    ages.append(rn)\n",
    "print(ages)\n",
    "print(children) \n",
    "print(teen)\n",
    "print(middle)\n",
    "print(old)"
   ]
  },
  {
   "cell_type": "code",
   "execution_count": null,
   "metadata": {},
   "outputs": [],
   "source": [
    "Alphabets = []\n",
    "for i in range(97,122+1):\n",
    "    c = chr(i)\n",
    "    Alphabets.append(c)\n",
    "print(Alphabets)"
   ]
  },
  {
   "cell_type": "code",
   "execution_count": null,
   "metadata": {},
   "outputs": [],
   "source": [
    "## insert()\n",
    "new_list= [66,87,96,99,56,897]\n",
    "new_list.insert(3,67)\n",
    "print(new_list)"
   ]
  },
  {
   "cell_type": "markdown",
   "metadata": {},
   "source": [
    "#### extend()\n",
    "- use to extend the lists\n",
    "- extends takes a iterable and adds every element of the iterable of the lists\n",
    "- Not only a lists takes any thing"
   ]
  },
  {
   "cell_type": "code",
   "execution_count": null,
   "metadata": {},
   "outputs": [],
   "source": [
    "marks = [98,96]\n",
    "new_marks = [99,95,91,60]\n",
    "marks.extend(new_marks)\n",
    "print(marks)\n",
    "c=[77]\n",
    "marks.extend(c)\n",
    "print(marks)"
   ]
  },
  {
   "cell_type": "code",
   "execution_count": null,
   "metadata": {},
   "outputs": [],
   "source": [
    "help(list.remove)"
   ]
  },
  {
   "cell_type": "code",
   "execution_count": null,
   "metadata": {},
   "outputs": [],
   "source": [
    "n = [99,95,91,60]\n",
    "n.remove(99)\n",
    "print(n)"
   ]
  },
  {
   "cell_type": "code",
   "execution_count": null,
   "metadata": {},
   "outputs": [],
   "source": [
    "help(list.pop)"
   ]
  },
  {
   "cell_type": "code",
   "execution_count": null,
   "metadata": {},
   "outputs": [],
   "source": [
    "n = [99,95,91,60]\n",
    "n.append(90)\n",
    "n.sort()\n",
    "n.pop(2)\n",
    "n.pop(-3)\n",
    "print(n)"
   ]
  },
  {
   "cell_type": "code",
   "execution_count": null,
   "metadata": {},
   "outputs": [],
   "source": [
    "help(list.clear)"
   ]
  },
  {
   "cell_type": "code",
   "execution_count": null,
   "metadata": {},
   "outputs": [],
   "source": [
    "n = [99,95,91,60]\n",
    "n.clear()\n",
    "v = [88,76,66]\n",
    "n.extend(v)\n",
    "print(n)"
   ]
  },
  {
   "cell_type": "code",
   "execution_count": null,
   "metadata": {},
   "outputs": [],
   "source": [
    "n = [99,95,91,60,99,99]\n",
    "for i in n:\n",
    "    n.remove(99)\n",
    "print(n)"
   ]
  },
  {
   "cell_type": "code",
   "execution_count": null,
   "metadata": {},
   "outputs": [],
   "source": [
    "s1 = \"Sri Ganesh\"\n",
    "s2 = \"Menni Sri Ganesh \"\n",
    "s11=s1.split()\n",
    "s22=s2.split()\n",
    "lst = []\n",
    "for i in range(len(s11)):\n",
    "    for j in range(len(s22)):\n",
    "        if(s11[i] == s22[j]):\n",
    "            s11.remove(s11[i])\n",
    "print(s11)"
   ]
  },
  {
   "cell_type": "code",
   "execution_count": null,
   "metadata": {},
   "outputs": [],
   "source": [
    "s1 = \"Sri Ganesh\"\n",
    "s2 = \"Menni Sri Ganesh \"\n",
    "s11=s1.split()\n",
    "s22=s2.split()\n",
    "lst = []\n",
    "for i in s11:\n",
    "    if i not in s22:\n",
    "            lst.append(i)\n",
    "for i in s22:\n",
    "    if i not in s11:\n",
    "            lst.append(i)\n",
    "print(lst)"
   ]
  },
  {
   "cell_type": "code",
   "execution_count": null,
   "metadata": {},
   "outputs": [],
   "source": [
    "def factors(list):\n",
    "    cnt = 0\n",
    "    lst = []\n",
    "    for i in liist:\n",
    "        for j in range(i):\n",
    "            if(i%j==0):\n",
    "                cnt += 1\n",
    "            lst.append(cnt)\n",
    "            cnt=0\n",
    "    return lst\n",
    "l=[12,6,9,17]\n",
    "k=[]\n",
    "k=factors(l)\n",
    "print(k)"
   ]
  },
  {
   "cell_type": "code",
   "execution_count": null,
   "metadata": {},
   "outputs": [],
   "source": [
    "help(list.copy)"
   ]
  },
  {
   "cell_type": "code",
   "execution_count": 38,
   "metadata": {},
   "outputs": [
    {
     "name": "stdout",
     "output_type": "stream",
     "text": [
      "[90, 94, 99, 67, 88]\n",
      "[90, 94, 99, 67]\n",
      "[90, 94, 99, 67, 88]\n"
     ]
    }
   ],
   "source": [
    "nums = [90,94,99,67]\n",
    "nums1  =  nums.copy()##Shallow copy\n",
    "nums2 = nums##Deep copy it will update when nums is updated\n",
    "nums.append(88)\n",
    "print(nums)\n",
    "print(nums1)\n",
    "print(nums2)"
   ]
  },
  {
   "cell_type": "code",
   "execution_count": 49,
   "metadata": {},
   "outputs": [
    {
     "name": "stdout",
     "output_type": "stream",
     "text": [
      "1\n"
     ]
    }
   ],
   "source": [
    "lst = ['jesse','tuco','salamanca','walter','skyler']\n",
    "k = lst.copy()\n",
    "k.sort()\n",
    "cnt = 0\n",
    "for i in range(len(lst)):\n",
    "    if(lst[i]==k[i]):\n",
    "        cnt +=1\n",
    "print(cnt)"
   ]
  },
  {
   "cell_type": "code",
   "execution_count": 50,
   "metadata": {},
   "outputs": [
    {
     "name": "stdout",
     "output_type": "stream",
     "text": [
      "[5, 4, 9, 6, 6]\n"
     ]
    }
   ],
   "source": [
    "lst = ['jesse','tuco','salamanca','walter','skyler']\n",
    "k=[len(i) for i in lst]\n",
    "print(k)"
   ]
  },
  {
   "cell_type": "code",
   "execution_count": 51,
   "metadata": {},
   "outputs": [
    {
     "name": "stdout",
     "output_type": "stream",
     "text": [
      "['s', 'u', 's', 'w', 'y']\n"
     ]
    }
   ],
   "source": [
    "lst = ['jesse','tuco','salamanca','walter','skyler']\n",
    "k=[max(i) for i in lst]\n",
    "print(k)"
   ]
  },
  {
   "cell_type": "code",
   "execution_count": 53,
   "metadata": {},
   "outputs": [
    {
     "name": "stdout",
     "output_type": "stream",
     "text": [
      "[45, 89, 99]\n"
     ]
    }
   ],
   "source": [
    "nums = [12,45,89,99,88]\n",
    "k = [i for i in nums if i%2 != 0]\n",
    "print(k)\n"
   ]
  },
  {
   "cell_type": "code",
   "execution_count": 56,
   "metadata": {},
   "outputs": [
    {
     "name": "stdout",
     "output_type": "stream",
     "text": [
      "[144, 7744]\n"
     ]
    }
   ],
   "source": [
    "nums = [12,45,89,99,88]\n",
    "k = [i*i for i in nums if i%2==0]\n",
    "print(k)"
   ]
  },
  {
   "cell_type": "code",
   "execution_count": 58,
   "metadata": {},
   "outputs": [
    {
     "name": "stdout",
     "output_type": "stream",
     "text": [
      "['salamanca', 'walter']\n"
     ]
    }
   ],
   "source": [
    "lst = ['jesse','tuco','salamanca','walter','skyler']\n",
    "k = [i for i in lst if 'a' in i]\n",
    "print(k)"
   ]
  },
  {
   "cell_type": "code",
   "execution_count": null,
   "metadata": {},
   "outputs": [],
   "source": []
  }
 ],
 "metadata": {
  "kernelspec": {
   "display_name": "Python 3",
   "language": "python",
   "name": "python3"
  },
  "language_info": {
   "codemirror_mode": {
    "name": "ipython",
    "version": 3
   },
   "file_extension": ".py",
   "mimetype": "text/x-python",
   "name": "python",
   "nbconvert_exporter": "python",
   "pygments_lexer": "ipython3",
   "version": "3.12.3"
  }
 },
 "nbformat": 4,
 "nbformat_minor": 2
}
