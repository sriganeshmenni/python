{
 "cells": [
  {
   "cell_type": "markdown",
   "id": "1a1d2f42-f279-432c-a45f-1a2e6832718a",
   "metadata": {},
   "source": [
    "#### Multiple inputs"
   ]
  },
  {
   "cell_type": "code",
   "execution_count": 8,
   "id": "75b0740a-0156-4cd8-b206-0b2e84d4b640",
   "metadata": {},
   "outputs": [
    {
     "name": "stdout",
     "output_type": "stream",
     "text": [
      "Enter num :  77 6 7\n"
     ]
    },
    {
     "name": "stdout",
     "output_type": "stream",
     "text": [
      "77 6 7\n"
     ]
    }
   ],
   "source": [
    "a,b,c = map(int,input(\"Enter num : \").split())\n",
    "print(a,b,c)"
   ]
  },
  {
   "cell_type": "code",
   "execution_count": 12,
   "id": "1c4f22aa-bb27-43b3-9bfd-715e7211b6cd",
   "metadata": {},
   "outputs": [
    {
     "name": "stdout",
     "output_type": "stream",
     "text": [
      "Enter : hi gan esh\n"
     ]
    },
    {
     "name": "stdout",
     "output_type": "stream",
     "text": [
      "hi gan esh\n"
     ]
    }
   ],
   "source": [
    "a,b,c = input(\"Enter :\").split()\n",
    "print(a,b,c,)"
   ]
  },
  {
   "cell_type": "code",
   "execution_count": 14,
   "id": "abc157b4-165d-4500-b8cf-826dac74105d",
   "metadata": {},
   "outputs": [
    {
     "name": "stdout",
     "output_type": "stream",
     "text": [
      "Enter Statement:  hi ganesh menni\n"
     ]
    },
    {
     "name": "stdout",
     "output_type": "stream",
     "text": [
      "hi ganesh menni\n"
     ]
    }
   ],
   "source": [
    "a = input(\"Enter Statement: \")\n",
    "print(a)"
   ]
  },
  {
   "cell_type": "markdown",
   "id": "5794d57f-4338-438c-9724-e30f5e794bfd",
   "metadata": {},
   "source": [
    "# <bold>Data Types</bold>  \n",
    "#### Numeric    ---> int,float,complex\n",
    "#### Sequence   --->String,list,tuple\n",
    "#### Set        --->\n",
    "#### Dictionary ---> \n",
    "#### Boolean    --->"
   ]
  },
  {
   "cell_type": "code",
   "execution_count": 35,
   "id": "01d7fbfd-2e19-47c0-8dfb-fc7ac51857d5",
   "metadata": {},
   "outputs": [
    {
     "name": "stdout",
     "output_type": "stream",
     "text": [
      " 778j\n"
     ]
    },
    {
     "name": "stdout",
     "output_type": "stream",
     "text": [
      "(2+3j) 2j 778j\n",
      "<class 'complex'>\n",
      "2.0\n",
      "3.0\n"
     ]
    }
   ],
   "source": [
    "## Complex data type\n",
    "a=2+3j\n",
    "b=2j\n",
    "c=complex(input())\n",
    "print(a,b,c,end='\\n')\n",
    "print(type(a))\n",
    "print(a.real)\n",
    "print(a.imag)"
   ]
  },
  {
   "cell_type": "code",
   "execution_count": 108,
   "id": "2afef75d-38e3-4c2c-a3d4-c788ad94a5ac",
   "metadata": {},
   "outputs": [
    {
     "name": "stdout",
     "output_type": "stream",
     "text": [
      "Enter Natural : 5\n"
     ]
    },
    {
     "name": "stdout",
     "output_type": "stream",
     "text": [
      "15\n"
     ]
    }
   ],
   "source": [
    "n = int(input(\"Enter Natural :\"))\n",
    "s=0\n",
    "for i in range(1,n+1):\n",
    "    s += i\n",
    "print(s)"
   ]
  },
  {
   "cell_type": "code",
   "execution_count": 1,
   "id": "dacc2682-b5aa-4087-9fa1-5ec6a37e3445",
   "metadata": {},
   "outputs": [
    {
     "name": "stdout",
     "output_type": "stream",
     "text": [
      "1432.3333333333333\n"
     ]
    }
   ],
   "source": [
    "a = 85940/60\n",
    "print(a)"
   ]
  },
  {
   "cell_type": "code",
   "execution_count": null,
   "id": "db854583",
   "metadata": {},
   "outputs": [],
   "source": []
  }
 ],
 "metadata": {
  "kernelspec": {
   "display_name": "Python 3 (ipykernel)",
   "language": "python",
   "name": "python3"
  },
  "language_info": {
   "codemirror_mode": {
    "name": "ipython",
    "version": 3
   },
   "file_extension": ".py",
   "mimetype": "text/x-python",
   "name": "python",
   "nbconvert_exporter": "python",
   "pygments_lexer": "ipython3",
   "version": "3.12.3"
  }
 },
 "nbformat": 4,
 "nbformat_minor": 5
}
