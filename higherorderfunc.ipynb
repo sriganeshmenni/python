{
 "cells": [
  {
   "cell_type": "code",
   "execution_count": null,
   "metadata": {},
   "outputs": [],
   "source": [
    "d = {'a':1,'b':2,'c':3}\n",
    "for i,j in d.items():\n",
    "    print(i,j)"
   ]
  },
  {
   "cell_type": "markdown",
   "metadata": {},
   "source": [
    "##### dict() \n",
    "+ dict() is builtin Function in python\n",
    "+ it is used to create a dictionary from iterable of iterables\n",
    "+ When using dict() we have  to make sure the  inner iterable of len 2"
   ]
  },
  {
   "cell_type": "code",
   "execution_count": null,
   "metadata": {},
   "outputs": [],
   "source": [
    "data = [[\"abdul kalam\",\"wings of fire\"],[\"Ganesh\",\"NONE\"]]\n",
    "c=dict(data)\n",
    "print(c)\n",
    "print(type(c))\n",
    "for i,j in c.items():\n",
    "    print(f\"{i} written {j}\")"
   ]
  },
  {
   "cell_type": "markdown",
   "metadata": {},
   "source": [
    "#### zip()\n",
    "+ zip() function takes n number of iterables\n",
    "+ and returns a zip object containing\n",
    "+ n lenght tuples where each item from tuple\n",
    "+ comes from each iterable \n",
    "+ zip() keeps on generating tuples until the\n",
    "+ smallest lenght iterable get exhausted"
   ]
  },
  {
   "cell_type": "code",
   "execution_count": 7,
   "metadata": {},
   "outputs": [
    {
     "name": "stdout",
     "output_type": "stream",
     "text": [
      "{'abdul kalam': 'Wings of fire', 'Ganesh': 'Brave Ai', 'Jk Rowling': 'Harry potter'}\n",
      "<class 'dict'>\n",
      "abdul kalam written Wings of fire\n",
      "Ganesh written Brave Ai\n",
      "Jk Rowling written Harry potter\n"
     ]
    }
   ],
   "source": [
    "Authors = [\"abdul kalam\",\"Ganesh\",\"Jk Rowling\"]\n",
    "books = [\"Wings of fire\",\"Brave Ai\",\"Harry potter\"]\n",
    "d= dict(zip(Authors,books))\n",
    "print(d)\n",
    "print(type(d))\n",
    "for i,j in d.items():\n",
    "    print(f\"{i} written {j}\")\n"
   ]
  },
  {
   "cell_type": "code",
   "execution_count": 8,
   "metadata": {},
   "outputs": [
    {
     "name": "stdout",
     "output_type": "stream",
     "text": [
      "{'a': 1, 'b': 2, 'c': 3, 'd': 4, 'e': 5, 'f': 6, 'g': 7, 'h': 8, 'i': 9, 'j': 10, 'k': 11, 'l': 12, 'm': 13, 'n': 14, 'o': 15, 'p': 16, 'q': 17, 'r': 18, 's': 19, 't': 20, 'u': 21, 'v': 22, 'w': 23, 'x': 24, 'y': 25, 'z': 26}\n"
     ]
    }
   ],
   "source": [
    "from string import*\n",
    "letters = ascii_lowercase\n",
    "nums = range(1,27)\n",
    "d = dict(zip(letters,nums))\n",
    "print(d)"
   ]
  },
  {
   "cell_type": "markdown",
   "metadata": {},
   "source": [
    "## higher order functions\n",
    "+ takes another function(s) as its arguements\n",
    "+ Examples of higher order functions in python\n",
    "  + map()\n",
    "  + sorted()\n",
    "  + functools.reduce()\n",
    "  + itertools.accumulate() "
   ]
  },
  {
   "cell_type": "markdown",
   "metadata": {},
   "source": [
    "### map()\n",
    " + take a function ,an iterable\n",
    " + map applies the given function  on each iterable\n",
    " + returns a map object which is covertible"
   ]
  },
  {
   "cell_type": "code",
   "execution_count": 14,
   "metadata": {},
   "outputs": [
    {
     "name": "stdout",
     "output_type": "stream",
     "text": [
      "[11, 9, 10, 8] ['y', 's', 'u', 'y']\n"
     ]
    }
   ],
   "source": [
    "names  = [\"SuryaKumari\",\"sriganesh\",\"Madhurisri\",\"UdayaSri\"]\n",
    "m = list(map(len,names))\n",
    "n = list(map(max,names))\n",
    "print(m,n)"
   ]
  },
  {
   "cell_type": "code",
   "execution_count": 17,
   "metadata": {},
   "outputs": [
    {
     "name": "stdout",
     "output_type": "stream",
     "text": [
      "{'a': 97, 'b': 98, 'c': 99, 'd': 100, 'e': 101, 'f': 102, 'g': 103, 'h': 104, 'i': 105, 'j': 106, 'k': 107, 'l': 108, 'm': 109, 'n': 110, 'o': 111, 'p': 112, 'q': 113, 'r': 114, 's': 115, 't': 116, 'u': 117, 'v': 118, 'w': 119, 'x': 120, 'y': 121, 'z': 122}\n",
      "['a', 'b', 'c', 'd', 'e', 'f', 'g', 'h', 'i', 'j', 'k', 'l', 'm', 'n', 'o', 'p', 'q', 'r', 's', 't', 'u', 'v', 'w', 'x', 'y', 'z']\n"
     ]
    }
   ],
   "source": [
    "alpha = list(map(chr,range(97,123)))\n",
    "d = dict(zip(alpha,range(97,123)))\n",
    "print(d)\n",
    "print(alpha)"
   ]
  },
  {
   "cell_type": "code",
   "execution_count": 20,
   "metadata": {},
   "outputs": [
    {
     "name": "stdout",
     "output_type": "stream",
     "text": [
      "[64, 343, 512, 729, 8]\n"
     ]
    }
   ],
   "source": [
    "def cube(n):\n",
    "    return n*n*n\n",
    "nums = [4,7,8,9,2]\n",
    "print(list(map(cube,nums)))"
   ]
  },
  {
   "cell_type": "markdown",
   "metadata": {},
   "source": [
    "#### filter()\n"
   ]
  },
  {
   "cell_type": "code",
   "execution_count": 1,
   "metadata": {},
   "outputs": [
    {
     "name": "stdout",
     "output_type": "stream",
     "text": [
      "[2, 416, 6, 4]\n"
     ]
    }
   ],
   "source": [
    "def even(n):\n",
    "    return n%2==0\n",
    "nums = [2,5,416,9,6,3,4]\n",
    "f = filter(even,nums)\n",
    "print(list(f))"
   ]
  },
  {
   "cell_type": "code",
   "execution_count": 3,
   "metadata": {},
   "outputs": [
    {
     "name": "stdout",
     "output_type": "stream",
     "text": [
      "[2, 3, 5, 7, 11, 13, 17, 19, 23, 29, 31, 37, 41, 43, 47, 53, 59, 61, 67, 71, 73, 79, 83, 89, 97]\n"
     ]
    }
   ],
   "source": [
    "def is_prime(n):\n",
    "    cnt =0\n",
    "    for i in range(1,n+1):\n",
    "        if n%i==0:\n",
    "            cnt += 1\n",
    "    if cnt==2:\n",
    "        return True\n",
    "    else:\n",
    "        return False\n",
    "f = filter(is_prime,range(1,100))\n",
    "print(list(f))"
   ]
  },
  {
   "cell_type": "code",
   "execution_count": 14,
   "metadata": {},
   "outputs": [
    {
     "name": "stdout",
     "output_type": "stream",
     "text": [
      "[1001, 1111, 1221, 1331, 1441, 1551, 1661, 1771, 1881, 1991]\n"
     ]
    }
   ],
   "source": [
    "def palindrome(n):\n",
    "    temp = n\n",
    "    rev=0\n",
    "    while temp!=0:\n",
    "        rev = rev*10 + (temp%10)\n",
    "        temp = temp//10\n",
    "    if rev==n:\n",
    "        return True\n",
    "    else:\n",
    "        return False\n",
    "f=filter(palindrome,range(1000,2001))\n",
    "print(list(f))"
   ]
  },
  {
   "cell_type": "code",
   "execution_count": 15,
   "metadata": {},
   "outputs": [
    {
     "name": "stdout",
     "output_type": "stream",
     "text": [
      "['bgtx', 'bdcvx']\n"
     ]
    }
   ],
   "source": [
    "def fun(s):\n",
    "    return 'x' in s\n",
    "lis = ['bgtx','ghty','juhve','bdcvx']\n",
    "print(list(filter(fun,lis)))"
   ]
  },
  {
   "cell_type": "code",
   "execution_count": 29,
   "metadata": {},
   "outputs": [
    {
     "name": "stdout",
     "output_type": "stream",
     "text": [
      "Acet -  51\n",
      "Acoe -  21\n",
      "Aec  -  53\n",
      "Aec Aiml  -  16\n"
     ]
    }
   ],
   "source": [
    "def cntacet(s):\n",
    "    return 'P3' in s[2:4]\n",
    "def cntacoe(s):\n",
    "    return 'MH' in s[2:4]\n",
    "def cntaec(s):\n",
    "    return 'A9' in s[2:4] \n",
    "def cntaecai(s):\n",
    "    return 'A9' in s[2:4] and '05' in s[6:8]\n",
    "x=['23P31A4207', '23A91A1271', '23MH1A4234', '23A91A6116', '23A91A0575', '23MH1A4265', '23MH1A4216', '23A91A61F6', '23MH1A4261', '23P31A4266', '23P31A4204', '23A91A61B3', '23MH1A05N2', '23P31A1213', '23A91A0554', '23MH1A4930', '23A91A61E4', '23MH1A4948', '23P31A0521', '23P31A0562', '23P31A0539', '23A91A6153', '23A91A6169', '23A91A6126', '23A91A0590', '23A91A1290', '23A91A61A2', '23A91A4450', '23A91A0517', '23P31A1206', '23P31A0544', '23P31A4232', '23P31A0537', '23P31A0540', '23MH1A4245', '23A91A05B2', '23A91A0561', '23A91A05F4', '23A91A1234', '23MH1A05K8', '23MH1A05J6', '23P31A0584', '23P31A0560', '23A91A61A6', '23A91A6158', '23A91A61C1', '23A91A1214', '23A91A0510', '23P31A0525', '23P31A1210', '23P31A4436', '23P31A1215', '23P31A1209', '23MH1A4945', '23P31A0569', '23MH1A4240', '23A91A61A8', '23P31A4245', '23A91A1226', '23A91A12D0', '23A91A05A3', '23A91A61C2', '23P31A0566', '23P31A0506', '23A91A05A5', '23P31A4440', '23A91A12A8', '23A91A61C0', '23MH1A4235', '23A91A0592', '23A91A05B4', '23P31A4426', '23P31A0508', '23A91A1205', '23A91A61G7', '23P31A1203', '23P31A0529', '23A91A1293', '23A91A1237', '23P31A0538', '23A91A05H2', '23P31A0501', '23A91A4426', '23P31A0515', '23P31A1230', '23P31A1225', '23P31A4212', '23P31A4419', '23MH1A1220', '23P31A1212', '23A91A05B7', '23P31A0542', '23A91A61D8', '23P31A0514', '23P31A0513', '23A91A61J5', '23A91A4440', '23A91A12A6', '23A91A0541', '23P31A1217', '23A91A05A9', '23A91A61F7', '23P31A0532', '23MH1A05K2', '23MH1A05H3', '23P31A0561', '23MH1A4250', '23P31A4428', '23P31A4425', '23P31A0554', '23P31A0548', '23A91A6172', '23A91A6171', '23A91A61A9', '23P31A1223', '23P31A0533', '23A91A6195', '23A91A6192', '23MH1A05N4', '23P31A4441', '23P31A0523', '23P31A4448', '23MH1A05P5', '23MH1A05N9', '23MH1A05M5']\n",
    "print(\"Acet - \",len(list(filter(cntacet,x))))\n",
    "print(\"Acoe - \",len(list(filter(cntacoe,x))))\n",
    "print(\"Aec  - \",len(list(filter(cntaec,x))))\n",
    "print(\"Aec Aiml  - \",len(list(filter(cntaecai,x))))\n"
   ]
  },
  {
   "cell_type": "code",
   "execution_count": 20,
   "metadata": {},
   "outputs": [
    {
     "name": "stdout",
     "output_type": "stream",
     "text": [
      "P\n"
     ]
    }
   ],
   "source": []
  },
  {
   "cell_type": "code",
   "execution_count": null,
   "metadata": {},
   "outputs": [],
   "source": []
  }
 ],
 "metadata": {
  "kernelspec": {
   "display_name": "Python 3",
   "language": "python",
   "name": "python3"
  },
  "language_info": {
   "codemirror_mode": {
    "name": "ipython",
    "version": 3
   },
   "file_extension": ".py",
   "mimetype": "text/x-python",
   "name": "python",
   "nbconvert_exporter": "python",
   "pygments_lexer": "ipython3",
   "version": "3.12.3"
  }
 },
 "nbformat": 4,
 "nbformat_minor": 2
}
