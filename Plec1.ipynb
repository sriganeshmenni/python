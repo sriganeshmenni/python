{
 "cells": [
  {
   "cell_type": "code",
   "execution_count": 3,
   "id": "adbe92c3-014f-4076-a113-9b375e288f30",
   "metadata": {},
   "outputs": [
    {
     "name": "stdout",
     "output_type": "stream",
     "text": [
      "the 0 next number is 1\n",
      "the 1 next number is 2\n",
      "the 2 next number is 3\n",
      "the 3 next number is 4\n",
      "the 4 next number is 5\n",
      "the 5 next number is 6\n",
      "the 6 next number is 7\n"
     ]
    }
   ],
   "source": [
    "for i in range(0,7):\n",
    "    print(\"the {} next number is {}\".format(i,i+1))"
   ]
  },
  {
   "cell_type": "code",
   "execution_count": 5,
   "id": "d7b0f5a8-b778-4d0c-9e50-ec3015194592",
   "metadata": {},
   "outputs": [
    {
     "name": "stdout",
     "output_type": "stream",
     "text": [
      "['False', 'None', 'True', 'and', 'as', 'assert', 'async', 'await', 'break', 'class', 'continue', 'def', 'del', 'elif', 'else', 'except', 'finally', 'for', 'from', 'global', 'if', 'import', 'in', 'is', 'lambda', 'nonlocal', 'not', 'or', 'pass', 'raise', 'return', 'try', 'while', 'with', 'yield']\n"
     ]
    }
   ],
   "source": [
    "import keyword\n",
    "print(keyword.kwlist)"
   ]
  },
  {
   "cell_type": "code",
   "execution_count": 11,
   "id": "da2aa171-bcc4-48ae-809c-de2f6e15fe68",
   "metadata": {},
   "outputs": [
    {
     "name": "stdin",
     "output_type": "stream",
     "text": [
      "Enter side of Square: 10\n"
     ]
    },
    {
     "name": "stdout",
     "output_type": "stream",
     "text": [
      "the area of given square is : 40\n"
     ]
    }
   ],
   "source": [
    "#Area of Square\n",
    "a=int(input(\"Enter side of Square:\"))\n",
    "area=4*a\n",
    "print(\"the area of given square is : {}\".format(area))"
   ]
  },
  {
   "cell_type": "code",
   "execution_count": 13,
   "id": "709a65c9-7209-4d2d-8141-c39d55bb119f",
   "metadata": {},
   "outputs": [
    {
     "name": "stdin",
     "output_type": "stream",
     "text": [
      "Enter Radius of circle: 10\n"
     ]
    },
    {
     "name": "stdout",
     "output_type": "stream",
     "text": [
      "the area of given circle is : 314.0\n"
     ]
    }
   ],
   "source": [
    "#Area of circle\n",
    "a=int(input(\"Enter Radius of circle:\"))\n",
    "area=3.14*a*a\n",
    "print(\"the area of given circle is : {}\".format(area))"
   ]
  },
  {
   "cell_type": "code",
   "execution_count": 15,
   "id": "8f80bdf7-b625-4e0a-98d4-49d34736ee5e",
   "metadata": {},
   "outputs": [
    {
     "name": "stdin",
     "output_type": "stream",
     "text": [
      "Enter Radius : 10\n"
     ]
    },
    {
     "name": "stdout",
     "output_type": "stream",
     "text": [
      "the area of given circle is : 1256.0\n"
     ]
    }
   ],
   "source": [
    "#Area of Sphere\n",
    "a=int(input(\"Enter Radius :\"))\n",
    "area=4*3.14*a*a\n",
    "print(\"the area of given circle is : {}\".format(area))"
   ]
  },
  {
   "cell_type": "code",
   "execution_count": 23,
   "id": "313db034-7d79-4412-9b21-26778639d57f",
   "metadata": {},
   "outputs": [
    {
     "name": "stdin",
     "output_type": "stream",
     "text": [
      "Enter value of a: 1\n",
      "Enter value of b: 2\n"
     ]
    },
    {
     "name": "stdout",
     "output_type": "stream",
     "text": [
      "The value of 1 % 2 is 1\n"
     ]
    }
   ],
   "source": [
    "#value of a%b\n",
    "a=int(input(\"Enter value of a:\"))\n",
    "b=int(input(\"Enter value of b:\"))\n",
    "print(\"The value of {} % {} is {}\".format(a,b,a%b))"
   ]
  },
  {
   "cell_type": "code",
   "execution_count": 19,
   "id": "3db6f891-9ad5-4cc5-ada0-e71e7ca42273",
   "metadata": {},
   "outputs": [
    {
     "name": "stdin",
     "output_type": "stream",
     "text": [
      "Enter value of a: 12\n",
      "Enter value of b: 19\n"
     ]
    },
    {
     "name": "stdout",
     "output_type": "stream",
     "text": [
      "The value of 12 / 19 is 0.631578947368421\n"
     ]
    }
   ],
   "source": [
    "#value of a/b\n",
    "a=int(input(\"Enter value of a:\"))\n",
    "b=int(input(\"Enter value of b:\"))\n",
    "print(\"The value of {} / {} is {}\".format(a,b,a/b))"
   ]
  },
  {
   "cell_type": "code",
   "execution_count": 21,
   "id": "e50caf21-179a-4fe8-9750-fee696b24588",
   "metadata": {},
   "outputs": [
    {
     "name": "stdin",
     "output_type": "stream",
     "text": [
      "Enter value of a: 12\n",
      "Enter value of b: 19\n"
     ]
    },
    {
     "name": "stdout",
     "output_type": "stream",
     "text": [
      "The value of 12 // 19 is 0\n"
     ]
    }
   ],
   "source": [
    "#value of a//b\n",
    "a=int(input(\"Enter value of a:\"))\n",
    "b=int(input(\"Enter value of b:\"))\n",
    "print(\"The value of {} // {} is {}\".format(a,b,a//b))"
   ]
  },
  {
   "cell_type": "code",
   "execution_count": 25,
   "id": "5a27de93-dee9-4fce-9b6f-5e0f024dc3ae",
   "metadata": {},
   "outputs": [
    {
     "name": "stdin",
     "output_type": "stream",
     "text": [
      "Enter Breadth : 12\n",
      "Enter Height  : 24\n"
     ]
    },
    {
     "name": "stdout",
     "output_type": "stream",
     "text": [
      "the area of given circle is : 288\n"
     ]
    }
   ],
   "source": [
    "#area of Rhombus\n",
    "a=int(input(\"Enter Breadth :\"))\n",
    "b=int(input(\"Enter Height  :\"))\n",
    "area=a*b\n",
    "print(\"the area of  Rhombus is : {}\".format(area))"
   ]
  },
  {
   "cell_type": "code",
   "execution_count": 27,
   "id": "a63c527b-85a4-4f35-83ba-8fae7e07b7a5",
   "metadata": {},
   "outputs": [
    {
     "name": "stdin",
     "output_type": "stream",
     "text": [
      "Enter Radius : 3\n"
     ]
    },
    {
     "name": "stdout",
     "output_type": "stream",
     "text": [
      "the perimeter of given circle is : 18.84\n"
     ]
    }
   ],
   "source": [
    "#Perimeter of circle\n",
    "a=int(input(\"Enter Radius :\"))\n",
    "area=2*3.14*a\n",
    "print(\"the perimeter of  circle is : {}\".format(area))"
   ]
  },
  {
   "cell_type": "code",
   "execution_count": 29,
   "id": "a736def0-cd25-42a8-a8f7-09d325cefb9a",
   "metadata": {},
   "outputs": [
    {
     "name": "stdin",
     "output_type": "stream",
     "text": [
      "Enter Radius : 12\n"
     ]
    },
    {
     "name": "stdout",
     "output_type": "stream",
     "text": [
      "the volume of Sphere is : 7234.559999999999\n"
     ]
    }
   ],
   "source": [
    "#Volume of sphere\n",
    "a=int(input(\"Enter Radius :\"))\n",
    "area=(4/3)*3.14*a*a*a\n",
    "print(\"the volume of Sphere is : {}\".format(area))"
   ]
  },
  {
   "cell_type": "code",
   "execution_count": 4,
   "id": "24bf66fc-4f37-431d-ad5b-9a42c4e3d3cb",
   "metadata": {},
   "outputs": [
    {
     "name": "stdin",
     "output_type": "stream",
     "text": [
      " 10\n",
      " 10\n",
      " 10\n"
     ]
    },
    {
     "name": "stdout",
     "output_type": "stream",
     "text": [
      "400\n"
     ]
    }
   ],
   "source": [
    "a=int(input())\n",
    "b=int(input())\n",
    "c=int(input())\n",
    "res=((2*a)+(2*b))*c\n",
    "print(res)"
   ]
  },
  {
   "cell_type": "code",
   "execution_count": null,
   "id": "833fae8c-3e18-40d0-83df-ecb60ef1cee3",
   "metadata": {},
   "outputs": [],
   "source": []
  }
 ],
 "metadata": {
  "kernelspec": {
   "display_name": "Python 3 (ipykernel)",
   "language": "python",
   "name": "python3"
  },
  "language_info": {
   "codemirror_mode": {
    "name": "ipython",
    "version": 3
   },
   "file_extension": ".py",
   "mimetype": "text/x-python",
   "name": "python",
   "nbconvert_exporter": "python",
   "pygments_lexer": "ipython3",
   "version": "3.12.4"
  }
 },
 "nbformat": 4,
 "nbformat_minor": 5
}
