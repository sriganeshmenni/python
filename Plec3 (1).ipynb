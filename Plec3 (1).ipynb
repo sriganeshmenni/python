{
 "cells": [
  {
   "cell_type": "markdown",
   "id": "4349a85d-9199-47f7-8ef9-9a379dd2a89e",
   "metadata": {},
   "source": [
    "ctrl+enter = run \n",
    "shift+enter = run and addnew cell\n",
    "esc + a = add new cell above\n",
    "esc + b = add new cell below\n",
    "esc + m = convert into text(using ## will increase or decrease size"
   ]
  },
  {
   "cell_type": "markdown",
   "id": "f56e7555-4e57-4b12-a149-2ec8e0c76326",
   "metadata": {},
   "source": [
    "# Python"
   ]
  },
  {
   "cell_type": "markdown",
   "id": "0584d5bb-3b14-42f2-a1e8-bff79add8461",
   "metadata": {},
   "source": [
    "## Area of Circle"
   ]
  },
  {
   "cell_type": "markdown",
   "id": "fc73e660-b570-41ab-a7b5-4b5dbb790fd3",
   "metadata": {},
   "source": [
    "### Math Functions  "
   ]
  },
  {
   "cell_type": "code",
   "execution_count": null,
   "id": "da6e52ac-b4de-435c-9790-ce352048e625",
   "metadata": {},
   "outputs": [],
   "source": [
    "a=float(input(\"Enter Radius of circle:\"))\n",
    "area=3.14*a*a\n",
    "print(\"the area of given circle is : {}\".format(round(area,4)))"
   ]
  },
  {
   "cell_type": "code",
   "execution_count": 12,
   "id": "2ea1b02e-dde4-42e7-bcb3-0b9c95bbb055",
   "metadata": {},
   "outputs": [
    {
     "name": "stdout",
     "output_type": "stream",
     "text": [
      "Enter Float value: 334.87\n"
     ]
    },
    {
     "name": "stdout",
     "output_type": "stream",
     "text": [
      "the Floor Value is : 334\n",
      "the Ceil Value is : 335\n"
     ]
    }
   ],
   "source": [
    "import math\n",
    "a=float(input(\"Enter Float value:\"))\n",
    "print(\"the Floor Value is : {}\".format(math.floor(a)))\n",
    "print(\"the Ceil Value is : {}\".format(math.ceil(a)))"
   ]
  },
  {
   "cell_type": "markdown",
   "id": "cf7216f3-d648-4412-bc0e-6a825f0f6c77",
   "metadata": {},
   "source": [
    "#### Different Data types input  "
   ]
  },
  {
   "cell_type": "code",
   "execution_count": 18,
   "id": "203a7e72-0e59-42e0-a468-27a7f3dd019a",
   "metadata": {},
   "outputs": [
    {
     "name": "stdout",
     "output_type": "stream",
     "text": [
      "Enter inter value : 44\n",
      "Enter Float value : 76.88\n",
      "Enter your Name : sri\n"
     ]
    },
    {
     "name": "stdout",
     "output_type": "stream",
     "text": [
      "44 \n",
      " 76.88 \n",
      " sri\n"
     ]
    }
   ],
   "source": [
    "a = int(input(\"Enter inter value :\"))\n",
    "b = float(input(\"Enter Float value :\"))\n",
    "c = input(\"Enter your Name :\")\n",
    "print( a,\"\\n\",b,\"\\n\",c)"
   ]
  },
  {
   "cell_type": "markdown",
   "id": "48f0d7a6-97a0-4d6b-8a18-e16158bcc0d9",
   "metadata": {},
   "source": [
    "#### Floor value  "
   ]
  },
  {
   "cell_type": "code",
   "execution_count": null,
   "id": "25e749a3-7a3c-4d29-b23f-b0386430c985",
   "metadata": {},
   "outputs": [],
   "source": [
    "import math\n",
    "a=float(input(\"Enter Float value:\"))\n",
    "print(\"the Floor Value is : {}\".format(math.floor(a)))"
   ]
  },
  {
   "cell_type": "markdown",
   "id": "f92de539-a961-43ea-b3f3-9e9bb4ef2bf2",
   "metadata": {},
   "source": [
    "#### Ceil value "
   ]
  },
  {
   "cell_type": "code",
   "execution_count": null,
   "id": "bdd2b91c-69de-4beb-ac4b-18f9bfc4b41a",
   "metadata": {},
   "outputs": [],
   "source": [
    "import math\n",
    "a=float(input(\"Enter Float value:\"))\n",
    "print(\"the Ceil Value is : {}\".format(math.ceil(a)))"
   ]
  },
  {
   "cell_type": "markdown",
   "id": "3b15fa96-932c-4ea0-85ad-05fce9299783",
   "metadata": {},
   "source": [
    "#### Volume of Sphere  "
   ]
  },
  {
   "cell_type": "code",
   "execution_count": null,
   "id": "0f82e73d-3653-449b-bc5d-9035eedd6180",
   "metadata": {},
   "outputs": [],
   "source": []
  }
 ],
 "metadata": {
  "kernelspec": {
   "display_name": "Python 3 (ipykernel)",
   "language": "python",
   "name": "python3"
  },
  "language_info": {
   "codemirror_mode": {
    "name": "ipython",
    "version": 3
   },
   "file_extension": ".py",
   "mimetype": "text/x-python",
   "name": "python",
   "nbconvert_exporter": "python",
   "pygments_lexer": "ipython3",
   "version": "3.12.4"
  }
 },
 "nbformat": 4,
 "nbformat_minor": 5
}
