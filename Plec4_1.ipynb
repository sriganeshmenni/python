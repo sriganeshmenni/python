{
 "cells": [
  {
   "cell_type": "code",
   "execution_count": 15,
   "id": "0805fe38-7dcf-4113-9eb0-ba8c031424f6",
   "metadata": {},
   "outputs": [
    {
     "name": "stdout",
     "output_type": "stream",
     "text": [
      "Enter number: 12\n",
      "Enter number: 13\n"
     ]
    },
    {
     "name": "stdout",
     "output_type": "stream",
     "text": [
      "12\n",
      "13\n"
     ]
    }
   ],
   "source": [
    "a=int(input(\"Enter number:\"))\n",
    "b=int(input(\"Enter number:\"))\n",
    "print(a)\n",
    "print(b)"
   ]
  },
  {
   "cell_type": "code",
   "execution_count": 25,
   "id": "b143d3cd-1d90-4562-b2f6-ae4e23ea3160",
   "metadata": {},
   "outputs": [
    {
     "name": "stdout",
     "output_type": "stream",
     "text": [
      "Enter the numbers: 1 2 3\n"
     ]
    },
    {
     "name": "stdout",
     "output_type": "stream",
     "text": [
      "1\n",
      "2\n",
      "3\n",
      "1 2 3"
     ]
    }
   ],
   "source": [
    "a,b,c=map(int,input(\"Enter the numbers:\").split())\n",
    "print (a)\n",
    "print (b)\n",
    "print (c)\n",
    "print(a,b,c,end = \"\")"
   ]
  },
  {
   "cell_type": "code",
   "execution_count": 27,
   "id": "4a0d4ed5-b2cd-4230-bd35-6bb8cef698c1",
   "metadata": {},
   "outputs": [
    {
     "name": "stdout",
     "output_type": "stream",
     "text": [
      "1268.45000\n",
      "1268.45\n"
     ]
    }
   ],
   "source": [
    "a=1268.45\n",
    "print('{:.5f}'.format(a))\n",
    "print(round(a,5))"
   ]
  },
  {
   "cell_type": "markdown",
   "id": "b84ca3d1-5afc-4c60-95f8-62feda2fea14",
   "metadata": {},
   "source": [
    "'''Take the input from the User in single statement print the output in single statement.'''\n"
   ]
  },
  {
   "cell_type": "code",
   "execution_count": 31,
   "id": "daa38fcb-8fa4-4266-8035-341e3dcac330",
   "metadata": {},
   "outputs": [
    {
     "name": "stdout",
     "output_type": "stream",
     "text": [
      "Enter the numbers: 1.2 2.3 3.4\n"
     ]
    },
    {
     "name": "stdout",
     "output_type": "stream",
     "text": [
      "1.2 2.3 3.4"
     ]
    }
   ],
   "source": [
    "a,b,c=map(float,input(\"Enter the numbers:\").split())\n",
    "print(a,b,c,end = \"\")"
   ]
  },
  {
   "cell_type": "markdown",
   "id": "377f2225-5dc4-4a41-947b-c0fc73009026",
   "metadata": {},
   "source": [
    "## Data types:\n",
    "->Numeric\n",
    "->Sequence\n",
    "->set\n",
    "->dictionary\n",
    "->boolean"
   ]
  },
  {
   "cell_type": "markdown",
   "id": "f9b1dc30-3a2c-4ede-9544-26dd06169da5",
   "metadata": {},
   "source": [
    "## Numberic data types\n",
    ". int \n",
    ". float\n",
    ". complex\n"
   ]
  },
  {
   "cell_type": "code",
   "execution_count": null,
   "id": "9875025f-d5c4-49c7-9b3d-18f33c411631",
   "metadata": {},
   "outputs": [],
   "source": [
    "# int data type \n",
    "a=int(input())\n",
    "print(a)\n",
    "print(type(a))"
   ]
  },
  {
   "cell_type": "code",
   "execution_count": null,
   "id": "0cd5da17-9aab-4afc-a750-1996559bccf0",
   "metadata": {},
   "outputs": [],
   "source": [
    "# float data type \n",
    "a=float(input())\n",
    "print(a)\n",
    "print(type(a))"
   ]
  },
  {
   "cell_type": "code",
   "execution_count": null,
   "id": "6a5b972c-6a32-4f2e-8489-36db148ab7c8",
   "metadata": {},
   "outputs": [],
   "source": [
    "# Complex datatype\n",
    "a=2+3j\n",
    "b=2j\n",
    "c=complex(input())\n",
    "print(a,b,c,end=\"\")\n",
    "print(type(a))\n",
    "print(a.real)\n",
    "print(a.imag)"
   ]
  },
  {
   "cell_type": "markdown",
   "id": "34cd0b0a-1809-409f-a6ff-a9c8070cfaaf",
   "metadata": {},
   "source": [
    "# Sequence datatype\n",
    ".string\n",
    ".list\n",
    ".tuple"
   ]
  },
  {
   "cell_type": "code",
   "execution_count": 1,
   "id": "671d4ad6-9263-43e5-874f-a14b549648b9",
   "metadata": {},
   "outputs": [
    {
     "name": "stdout",
     "output_type": "stream",
     "text": [
      "gr tt yyum\n",
      "h\n",
      "madh\n",
      "dh\n"
     ]
    }
   ],
   "source": [
    "## String datatype\n",
    "a,b,c=input(\"Enter String:\").split()\n",
    "print(a,b,c,end=\"\")\n",
    "y=\"madhu\"\n",
    "print(y[0])\n",
    "print(y[3])\n",
    "print(y[0:4])\n",
    "print(y[2:4])"
   ]
  },
  {
   "cell_type": "raw",
   "id": "de62ec1c-d0e9-4bf1-ab00-229ddf314428",
   "metadata": {},
   "source": [
    "## List Datatype\n",
    "''' List is ordered and mutable'''\n",
    "a=[]\n",
    "b=[2,3,5,9]\n",
    "c=[567,56,328,8+9j,'Madhu']\n",
    "print(b,c)\n",
    "print(b[0])\n",
    "print(b[3])"
   ]
  },
  {
   "cell_type": "code",
   "execution_count": 13,
   "id": "c494f699-aead-4eb1-9368-c656b77811fc",
   "metadata": {},
   "outputs": [
    {
     "name": "stdout",
     "output_type": "stream",
     "text": [
      "(5, 1, 6, 8)\n",
      "<class 'tuple'>\n"
     ]
    }
   ],
   "source": [
    "## tuple datatype\n",
    "a=()\n",
    "b=(5,1,6,8)\n",
    "print(b)\n",
    "print(type(b))"
   ]
  },
  {
   "cell_type": "markdown",
   "id": "89c2a907-1725-433a-8a39-b3d897576cbd",
   "metadata": {},
   "source": [
    "# Set Datatype"
   ]
  },
  {
   "cell_type": "code",
   "execution_count": 60,
   "id": "212e17ef-0782-485c-87d9-66300e1bf9d7",
   "metadata": {},
   "outputs": [
    {
     "name": "stdout",
     "output_type": "stream",
     "text": [
      "{1, 2, 3, 4, 5, 6, 7, 8, 9}\n",
      "{'hii'}\n",
      "<class 'set'>\n"
     ]
    }
   ],
   "source": [
    "# set doesn't duplicate values, unordered\n",
    "y={1,2,3,4,5,6,7,8,9}\n",
    "print(y)\n",
    "t={'hii','hii'}\n",
    "print(t)\n",
    "print(type(t))"
   ]
  },
  {
   "cell_type": "markdown",
   "id": "f8567716-94bd-4e52-be12-dc43f1ad4d95",
   "metadata": {},
   "source": [
    "# Dictionary Datatype"
   ]
  },
  {
   "cell_type": "code",
   "execution_count": 2,
   "id": "bd9d44e2-8dd7-4a9c-b1dd-1e0d40a9f5d1",
   "metadata": {},
   "outputs": [
    {
     "name": "stdout",
     "output_type": "stream",
     "text": [
      "{1: 5, 2: 6, 3: 7}\n",
      "{1: [2, 3, 4, 5]}\n",
      "<class 'dict'>\n"
     ]
    }
   ],
   "source": [
    "a={1:5,2:6,3:7}\n",
    "#keys and values\n",
    "print(a)\n",
    "b={1:[2,3,4,5]}\n",
    "print(b)\n",
    "print(type(a))"
   ]
  },
  {
   "cell_type": "code",
   "execution_count": 4,
   "id": "71cf0d46-0240-4c0c-a667-316dcee559a5",
   "metadata": {},
   "outputs": [
    {
     "data": {
      "text/plain": [
       "True"
      ]
     },
     "execution_count": 4,
     "metadata": {},
     "output_type": "execute_result"
    }
   ],
   "source": [
    "## Boolean Datatype\n",
    "a=143\n",
    "b=142\n",
    "a>b"
   ]
  },
  {
   "cell_type": "code",
   "execution_count": null,
   "id": "5880e224",
   "metadata": {},
   "outputs": [],
   "source": [
    "a,b= map(int,input().split())\n",
    "c = 0\n",
    "for i in range (a,b+1):\n",
    "    for j in range(2,i+1):\n",
    "     if(i%j==0):\n",
    "      continue\n",
    "     c +=1\n",
    "    print(i)\n",
    "print(c)"
   ]
  },
  {
   "cell_type": "code",
   "execution_count": null,
   "id": "9cff7635",
   "metadata": {},
   "outputs": [],
   "source": [
    "a,b= map(int,input().split())\n",
    "c = 0\n",
    "for i in range (a,b+1):\n",
    "    for j in range(2,i+1):\n",
    "     if(i%j==0):\n",
    "      continue\n",
    "     c +=1\n",
    "     print(i)\n",
    "print(c)"
   ]
  },
  {
   "cell_type": "code",
   "execution_count": 2,
   "id": "4ce2d253",
   "metadata": {},
   "outputs": [
    {
     "ename": "TypeError",
     "evalue": "'set' object is not subscriptable",
     "output_type": "error",
     "traceback": [
      "\u001b[1;31m---------------------------------------------------------------------------\u001b[0m",
      "\u001b[1;31mTypeError\u001b[0m                                 Traceback (most recent call last)",
      "Cell \u001b[1;32mIn[2], line 8\u001b[0m\n\u001b[0;32m      6\u001b[0m \u001b[38;5;28;01mfor\u001b[39;00m i \u001b[38;5;129;01min\u001b[39;00m \u001b[38;5;28mrange\u001b[39m(\u001b[38;5;241m0\u001b[39m,\u001b[38;5;28mlen\u001b[39m(words)):\n\u001b[0;32m      7\u001b[0m     \u001b[38;5;28;01mfor\u001b[39;00m j \u001b[38;5;129;01min\u001b[39;00m \u001b[38;5;28mrange\u001b[39m(\u001b[38;5;241m0\u001b[39m,\u001b[38;5;28mlen\u001b[39m(vowels)):\n\u001b[1;32m----> 8\u001b[0m         \u001b[38;5;28;01mif\u001b[39;00m(words[i][\u001b[38;5;241m0\u001b[39m]\u001b[38;5;241m==\u001b[39m\u001b[43mvowels\u001b[49m\u001b[43m[\u001b[49m\u001b[43mj\u001b[49m\u001b[43m]\u001b[49m \u001b[38;5;129;01mor\u001b[39;00m words[i][\u001b[38;5;241m0\u001b[39m]\u001b[38;5;241m==\u001b[39mcap[j]):\n\u001b[0;32m      9\u001b[0m             c\u001b[38;5;241m=\u001b[39mc\u001b[38;5;241m+\u001b[39m\u001b[38;5;241m1\u001b[39m\n\u001b[0;32m     10\u001b[0m \u001b[38;5;28mprint\u001b[39m(c)\n",
      "\u001b[1;31mTypeError\u001b[0m: 'set' object is not subscriptable"
     ]
    }
   ],
   "source": [
    "sen = input()\n",
    "words = sen.split()\n",
    "vowels = {'a','e','i','o','u'}\n",
    "cap =  {'A','E','I','O','U'}\n",
    "c=0\n",
    "for i in range(0,len(words)):\n",
    "    for j in range(0,len(vowels)):\n",
    "        if(words[i][0]==vowels[j] or words[i][0]==cap[j]):\n",
    "            c=c+1\n",
    "print(c)\n"
   ]
  }
 ],
 "metadata": {
  "kernelspec": {
   "display_name": "Python 3",
   "language": "python",
   "name": "python3"
  },
  "language_info": {
   "codemirror_mode": {
    "name": "ipython",
    "version": 3
   },
   "file_extension": ".py",
   "mimetype": "text/x-python",
   "name": "python",
   "nbconvert_exporter": "python",
   "pygments_lexer": "ipython3",
   "version": "3.12.3"
  }
 },
 "nbformat": 4,
 "nbformat_minor": 5
}
