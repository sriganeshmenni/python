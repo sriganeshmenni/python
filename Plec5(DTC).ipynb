{
 "cells": [
  {
   "cell_type": "markdown",
   "metadata": {},
   "source": [
    "### Data Type Conversions "
   ]
  },
  {
   "cell_type": "code",
   "execution_count": null,
   "metadata": {},
   "outputs": [],
   "source": [
    "a=10\n",
    "print(type(a))\n",
    "a=str(a)\n",
    "print(type(a))\n",
    "b=\"Ganesh\"\n",
    "b=list(b)\n",
    "print(b)\n",
    "print(type(b))"
   ]
  },
  {
   "cell_type": "markdown",
   "metadata": {},
   "source": [
    "### Expression is a combination operators and operands\n",
    "#### operators --> +,-,*/...."
   ]
  },
  {
   "cell_type": "markdown",
   "metadata": {},
   "source": [
    "## Operators\n",
    " 1. Arthematic operator  \n",
    " 2. Assignment operator  \n",
    " 3. Membership Operator\n",
    " 4. Relational Operator  \n",
    " 5. Logical operator\n",
    " 6. Conditional operator\n",
    " 7. Bitwise operator"
   ]
  },
  {
   "cell_type": "markdown",
   "metadata": {},
   "source": [
    "#### Arthematic operator\n",
    "- Addition +  \n",
    "- Subtracction -  \n",
    "- Division /  \n",
    "- Multiplication  \n",
    "- Floor Division  \n",
    "- modulo Division  \n",
    "- power **  "
   ]
  },
  {
   "cell_type": "markdown",
   "metadata": {},
   "source": [
    "#### Membership operator\n",
    "- in\n",
    "- not in"
   ]
  },
  {
   "cell_type": "code",
   "execution_count": null,
   "metadata": {},
   "outputs": [],
   "source": [
    "a = [1,3,5,7]\n",
    "print(5 in a)\n",
    "print(6 not in a)\n",
    "print(94365 in a)"
   ]
  },
  {
   "cell_type": "markdown",
   "metadata": {},
   "source": [
    "#### Relational operator\n",
    "also called as comparsion operators\n",
    "- <,>(less than,Greater than)\n",
    "- <=\n",
    "- ==\n",
    "- !="
   ]
  },
  {
   "cell_type": "code",
   "execution_count": null,
   "metadata": {},
   "outputs": [],
   "source": [
    "print(2<88)\n",
    "print(2!=9)\n",
    "print(5==5)\n",
    "print(99>=98)"
   ]
  },
  {
   "cell_type": "markdown",
   "metadata": {},
   "source": [
    "#### Logical operator\n",
    "- logical and \n",
    "- logical or\n",
    "- logical not"
   ]
  },
  {
   "cell_type": "code",
   "execution_count": null,
   "metadata": {},
   "outputs": [],
   "source": [
    "# logical and\n",
    "# true and true = true\n",
    "# true and false = false\n",
    "# false and true = false\n",
    "# false and false = false\n",
    "print(9<88 and 78>99)\n",
    "print(5==5 and (6647-764)>888)"
   ]
  },
  {
   "cell_type": "code",
   "execution_count": null,
   "metadata": {},
   "outputs": [],
   "source": [
    "# logical or\n",
    "# true and true = true\n",
    "# true and false = true\n",
    "# false and true = true\n",
    "# false and false = false\n",
    "print(9<88 or 78>99)\n",
    "print(5==5 or (6647-764)>888)"
   ]
  },
  {
   "cell_type": "code",
   "execution_count": null,
   "metadata": {},
   "outputs": [],
   "source": [
    "# logical not\n",
    "# opposite of result t->f,f->t\n",
    "print(not(9<88 or 78>99))\n",
    "print(not(5==5 or (6647-764)>888))"
   ]
  },
  {
   "cell_type": "markdown",
   "metadata": {},
   "source": [
    "#### Conditional Operator\n",
    "- if\n",
    "- elif\n",
    "- else"
   ]
  },
  {
   "cell_type": "code",
   "execution_count": null,
   "metadata": {},
   "outputs": [],
   "source": [
    "a = int(input(\"Enter :\"))\n",
    "print(\"Even\"if a%2==0 else \"odd\")\n",
    "if (a>10):\n",
    "    print(\"Greater\")\n",
    "b=input(\"Enter Name : \")\n",
    "b=list(b)\n",
    "print(\"found\" if 'n' in b else \"Not found\")"
   ]
  },
  {
   "cell_type": "markdown",
   "metadata": {},
   "source": [
    "#### Bitwise Operator\n",
    "- Bitwise & (and)  \n",
    "- Bitwise | (or)\n",
    "- Bitwise ^ (xor)"
   ]
  },
  {
   "cell_type": "code",
   "execution_count": null,
   "metadata": {},
   "outputs": [],
   "source": [
    "# Bitwise and(&)\n",
    "print(8&10)                                                 ##--> 8 ->1 0 0 0 \n",
    "print(4768&2487)                                            ##--> 10->1 0 1 0\n",
    "## bin ->converts into binary                                         --------\n",
    "print(bin(3))                                               ##-->     1 0 0 0"
   ]
  },
  {
   "cell_type": "code",
   "execution_count": null,
   "metadata": {},
   "outputs": [],
   "source": [
    "# Bitwise or(|)\n",
    "print(8|10)                                                 ##--> 8 ->1 0 0 0 \n",
    "print(4768|2487)                                            ##--> 10->1 0 1 0\n",
    "## bin ->converts into binary                                         --------\n",
    "print(bin(8),bin(10))                                       ##-->     1 0 1 0"
   ]
  },
  {
   "cell_type": "code",
   "execution_count": null,
   "metadata": {},
   "outputs": [],
   "source": [
    "# Bitwise xor(^)\n",
    "print(8^10)                                                 ##--> 8 ->1 0 0 0 \n",
    "print(4768^2487)                                            ##--> 10->1 0 1 0\n",
    "## bin ->converts into binary                                         --------\n",
    "print(bin(8),bin(10))                                       ##-->     0 0 1 0"
   ]
  },
  {
   "cell_type": "code",
   "execution_count": null,
   "metadata": {},
   "outputs": [],
   "source": [
    "import pywhatkit\n",
    "pywhatkit.sendwhatmsg(\"+918885281014\",\"Hii\",11,10)"
   ]
  },
  {
   "cell_type": "code",
   "execution_count": null,
   "metadata": {},
   "outputs": [],
   "source": [
    "n = int(input())\n",
    "for i in range(1,n+1):\n",
    " if n%i==0:\n",
    "  print(i)"
   ]
  },
  {
   "cell_type": "code",
   "execution_count": null,
   "metadata": {},
   "outputs": [],
   "source": [
    "n = int(input())\n",
    "i = 1\n",
    "while(i<=n):\n",
    " if n%i==0:\n",
    "  print(i)\n",
    " i += 1"
   ]
  },
  {
   "cell_type": "code",
   "execution_count": null,
   "metadata": {},
   "outputs": [],
   "source": [
    "a,b= map(int,input().split())\n",
    "c = 0                \n",
    "for i in range (a,b+1):\n",
    "    flag = 0\n",
    "    for  j in range(2,i):\n",
    "      if i%j==0:\n",
    "       flag=1\n",
    "    if flag == 0:\n",
    "     print(i)\n",
    "     c += 1\n",
    "print(c)"
   ]
  }
 ],
 "metadata": {
  "kernelspec": {
   "display_name": "Python 3",
   "language": "python",
   "name": "python3"
  },
  "language_info": {
   "codemirror_mode": {
    "name": "ipython",
    "version": 3
   },
   "file_extension": ".py",
   "mimetype": "text/x-python",
   "name": "python",
   "nbconvert_exporter": "python",
   "pygments_lexer": "ipython3",
   "version": "3.12.3"
  }
 },
 "nbformat": 4,
 "nbformat_minor": 2
}
